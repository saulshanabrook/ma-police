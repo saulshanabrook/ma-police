{
 "cells": [
  {
   "cell_type": "code",
   "execution_count": 1,
   "metadata": {
    "collapsed": true
   },
   "outputs": [],
   "source": [
    "import pandas as pd"
   ]
  },
  {
   "cell_type": "code",
   "execution_count": 26,
   "metadata": {
    "collapsed": false
   },
   "outputs": [
    {
     "data": {
      "text/html": [
       "<div>\n",
       "<table border=\"1\" class=\"dataframe\">\n",
       "  <thead>\n",
       "    <tr style=\"text-align: right;\">\n",
       "      <th></th>\n",
       "      <th>Offense Type</th>\n",
       "      <th>Arrestee Race</th>\n",
       "      <th>Arrestee Ethnicity</th>\n",
       "      <th>Arrestee Gender</th>\n",
       "      <th>Number of Arrestees</th>\n",
       "    </tr>\n",
       "  </thead>\n",
       "  <tbody>\n",
       "    <tr>\n",
       "      <th>0</th>\n",
       "      <td>Total</td>\n",
       "      <td>White</td>\n",
       "      <td>Hispanic or Latino</td>\n",
       "      <td>Female</td>\n",
       "      <td>1736.0</td>\n",
       "    </tr>\n",
       "    <tr>\n",
       "      <th>1</th>\n",
       "      <td>Total</td>\n",
       "      <td>White</td>\n",
       "      <td>Hispanic or Latino</td>\n",
       "      <td>Male</td>\n",
       "      <td>6699.0</td>\n",
       "    </tr>\n",
       "    <tr>\n",
       "      <th>2</th>\n",
       "      <td>Total</td>\n",
       "      <td>White</td>\n",
       "      <td>Hispanic or Latino</td>\n",
       "      <td>Missing</td>\n",
       "      <td>0.0</td>\n",
       "    </tr>\n",
       "    <tr>\n",
       "      <th>3</th>\n",
       "      <td>Total</td>\n",
       "      <td>White</td>\n",
       "      <td>Not Hispanic or Latino</td>\n",
       "      <td>Female</td>\n",
       "      <td>10713.0</td>\n",
       "    </tr>\n",
       "    <tr>\n",
       "      <th>4</th>\n",
       "      <td>Total</td>\n",
       "      <td>White</td>\n",
       "      <td>Not Hispanic or Latino</td>\n",
       "      <td>Male</td>\n",
       "      <td>23401.0</td>\n",
       "    </tr>\n",
       "  </tbody>\n",
       "</table>\n",
       "</div>"
      ],
      "text/plain": [
       "  Offense Type Arrestee Race      Arrestee Ethnicity Arrestee Gender  \\\n",
       "0        Total         White      Hispanic or Latino          Female   \n",
       "1        Total         White      Hispanic or Latino            Male   \n",
       "2        Total         White      Hispanic or Latino         Missing   \n",
       "3        Total         White  Not Hispanic or Latino          Female   \n",
       "4        Total         White  Not Hispanic or Latino            Male   \n",
       "\n",
       "   Number of Arrestees  \n",
       "0               1736.0  \n",
       "1               6699.0  \n",
       "2                  0.0  \n",
       "3              10713.0  \n",
       "4              23401.0  "
      ]
     },
     "execution_count": 26,
     "metadata": {},
     "output_type": "execute_result"
    }
   ],
   "source": [
    "df = pd.read_csv(\"Group A Arrests.csv\", skiprows=4, usecols=range(5), thousands=',').fillna(0)\n",
    "df.head()"
   ]
  },
  {
   "cell_type": "code",
   "execution_count": 36,
   "metadata": {
    "collapsed": false
   },
   "outputs": [],
   "source": [
    "t = df[df['Offense Type'] == 'Total'].sum()['Number of Arrestees']"
   ]
  },
  {
   "cell_type": "code",
   "execution_count": 44,
   "metadata": {
    "collapsed": false
   },
   "outputs": [
    {
     "data": {
      "text/html": [
       "<div>\n",
       "<table border=\"1\" class=\"dataframe\">\n",
       "  <thead>\n",
       "    <tr style=\"text-align: right;\">\n",
       "      <th></th>\n",
       "      <th>Number of Arrestees</th>\n",
       "    </tr>\n",
       "    <tr>\n",
       "      <th>Arrestee Ethnicity</th>\n",
       "      <th></th>\n",
       "    </tr>\n",
       "  </thead>\n",
       "  <tbody>\n",
       "    <tr>\n",
       "      <th>Hispanic or Latino</th>\n",
       "      <td>0.164985</td>\n",
       "    </tr>\n",
       "    <tr>\n",
       "      <th>Missing</th>\n",
       "      <td>0.015084</td>\n",
       "    </tr>\n",
       "    <tr>\n",
       "      <th>Not Hispanic or Latino</th>\n",
       "      <td>0.728116</td>\n",
       "    </tr>\n",
       "    <tr>\n",
       "      <th>Unknown</th>\n",
       "      <td>0.091816</td>\n",
       "    </tr>\n",
       "  </tbody>\n",
       "</table>\n",
       "</div>"
      ],
      "text/plain": [
       "                        Number of Arrestees\n",
       "Arrestee Ethnicity                         \n",
       "Hispanic or Latino                 0.164985\n",
       "Missing                            0.015084\n",
       "Not Hispanic or Latino             0.728116\n",
       "Unknown                            0.091816"
      ]
     },
     "execution_count": 44,
     "metadata": {},
     "output_type": "execute_result"
    }
   ],
   "source": [
    "df[df['Offense Type'] == 'Total'].groupby(\"Arrestee Ethnicity\").sum() / t"
   ]
  },
  {
   "cell_type": "code",
   "execution_count": 42,
   "metadata": {
    "collapsed": false
   },
   "outputs": [],
   "source": [
    "race_p = {\n",
    "    \"White\": 0.771,\n",
    "    \"Black or African American\": 0.133,\n",
    "    \"American Indian or Alaska Native\": 0.012,\n",
    "    \"Asian\": 0.056,\n",
    "}\n",
    "\n",
    "race_p['Unknown'] = 1 - sum(race_p.values())"
   ]
  },
  {
   "cell_type": "code",
   "execution_count": 43,
   "metadata": {
    "collapsed": false
   },
   "outputs": [
    {
     "data": {
      "text/plain": [
       "{'American Indian or Alaska Native': 0.012,\n",
       " 'Asian': 0.056,\n",
       " 'Black or African American': 0.133,\n",
       " 'Unknown': 0.028000000000000025,\n",
       " 'White': 0.771}"
      ]
     },
     "execution_count": 43,
     "metadata": {},
     "output_type": "execute_result"
    }
   ],
   "source": [
    "ethnicity_p = {\n",
    "    \"Hispanic or Latino\": 0.176,\n",
    "    \"Not Hispanic or Latino\": 0.616 \n",
    "}"
   ]
  },
  {
   "cell_type": "code",
   "execution_count": null,
   "metadata": {
    "collapsed": true
   },
   "outputs": [],
   "source": []
  }
 ],
 "metadata": {
  "kernelspec": {
   "display_name": "Python 3",
   "language": "python",
   "name": "python3"
  },
  "language_info": {
   "codemirror_mode": {
    "name": "ipython",
    "version": 3
   },
   "file_extension": ".py",
   "mimetype": "text/x-python",
   "name": "python",
   "nbconvert_exporter": "python",
   "pygments_lexer": "ipython3",
   "version": "3.5.2"
  }
 },
 "nbformat": 4,
 "nbformat_minor": 1
}
